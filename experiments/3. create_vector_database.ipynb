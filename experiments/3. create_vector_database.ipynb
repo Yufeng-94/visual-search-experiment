{
 "cells": [
  {
   "cell_type": "code",
   "execution_count": 1,
   "id": "c216da16-4f7b-44e9-9a35-040900bd9734",
   "metadata": {},
   "outputs": [],
   "source": [
    "%config Application.log_level = 'INFO'"
   ]
  },
  {
   "cell_type": "code",
   "execution_count": 27,
   "id": "44d78a24-903b-44e5-b441-6b47459cd251",
   "metadata": {},
   "outputs": [
    {
     "name": "stdout",
     "output_type": "stream",
     "text": [
      "The autoreload extension is already loaded. To reload it, use:\n",
      "  %reload_ext autoreload\n"
     ]
    }
   ],
   "source": [
    "import os\n",
    "import sys\n",
    "sys.path.append('..')\n",
    "sys.path.append('../src')\n",
    "\n",
    "import numpy as np\n",
    "import pandas as pd\n",
    "import torch\n",
    "import logging\n",
    "\n",
    "from torchvision.models import resnet50, ResNet50_Weights\n",
    "from torchvision.io import decode_image\n",
    "\n",
    "from src.image_encoder import PreTrainedImageEncoder\n",
    "from src.image_metadata_process import extract_image_metadata\n",
    "from src.image_process import load_image_and_metadata\n",
    "from src.qdrant_vector_db import QdrantVectorDB\n",
    "\n",
    "from qdrant_client.models import Distance\n",
    "\n",
    "%load_ext autoreload\n",
    "%autoreload 2"
   ]
  },
  {
   "cell_type": "markdown",
   "id": "c2b3ebde-59ff-4583-936e-9c6ce9d3e1af",
   "metadata": {},
   "source": [
    "# 1. Load Image Encoder"
   ]
  },
  {
   "cell_type": "code",
   "execution_count": 3,
   "id": "f8abed11-1d2e-491c-aa34-8c7c10e9e192",
   "metadata": {},
   "outputs": [
    {
     "data": {
      "text/plain": [
       "ImageClassification(\n",
       "    crop_size=[224]\n",
       "    resize_size=[232]\n",
       "    mean=[0.485, 0.456, 0.406]\n",
       "    std=[0.229, 0.224, 0.225]\n",
       "    interpolation=InterpolationMode.BILINEAR\n",
       ")"
      ]
     },
     "execution_count": 3,
     "metadata": {},
     "output_type": "execute_result"
    }
   ],
   "source": [
    "# cache weights to a project folder\n",
    "os.environ['TORCH_HOME'] = '../cache'\n",
    "# select device\n",
    "device = torch.device(\"cuda\") if torch.cuda.is_available else torch.device(\"cpu\")\n",
    "\n",
    "# Init model with pre-trained weights\n",
    "pre_trained_weights = ResNet50_Weights.IMAGENET1K_V2\n",
    "model = resnet50(weights=pre_trained_weights)\n",
    "\n",
    "# Create image encoder from pre-trained model\n",
    "image_encoder = PreTrainedImageEncoder(model, device=device)\n",
    "\n",
    "# Set encoder to eval mode\n",
    "image_encoder.eval()\n",
    "\n",
    "# Init transforms\n",
    "image_process = pre_trained_weights.transforms()\n",
    "image_process"
   ]
  },
  {
   "cell_type": "markdown",
   "id": "ba3bbd4f-b273-4b2f-9855-f422563dc890",
   "metadata": {},
   "source": [
    "# 2. Create Vector Database"
   ]
  },
  {
   "cell_type": "code",
   "execution_count": 36,
   "id": "550dd73e-d8f1-40a4-97c6-29c42720f086",
   "metadata": {},
   "outputs": [],
   "source": [
    "# Db configs\n",
    "db_name = 'image_db'\n",
    "dim = 2048\n",
    "distance = Distance.COSINE\n",
    "db_path = '../vector_database'\n",
    "db_client = QdrantVectorDB.init_client(db_path)"
   ]
  },
  {
   "cell_type": "code",
   "execution_count": 37,
   "id": "987a1f82-8580-4216-9d2a-c1a3a114157a",
   "metadata": {},
   "outputs": [
    {
     "name": "stderr",
     "output_type": "stream",
     "text": [
      "INFO:root:Created Qdrant collection 'image_db' with dimension 2048 and distance 'Cosine'.\n"
     ]
    }
   ],
   "source": [
    "# If creating a db:\n",
    "qdrant_db = QdrantVectorDB.create_db(\n",
    "    database_name=db_name, \n",
    "    dimension=dim, \n",
    "    distance=distance, \n",
    "    database_path=db_path,\n",
    "    client=db_client,\n",
    ")\n",
    "\n",
    "# If loading an existing db:\n",
    "# qdrant_db = QdrantVectorDB.load_db(db_name, db_path)\n",
    "\n",
    "# If removing an existing db:\n",
    "# QdrantVectorDB.remove_db(database_name=db_name, database_path=db_path, client=qdrant_db.client)"
   ]
  },
  {
   "cell_type": "code",
   "execution_count": 39,
   "id": "7d704694-d34b-4915-a7da-adbfd10004e6",
   "metadata": {},
   "outputs": [
    {
     "data": {
      "text/html": [
       "<div>\n",
       "<style scoped>\n",
       "    .dataframe tbody tr th:only-of-type {\n",
       "        vertical-align: middle;\n",
       "    }\n",
       "\n",
       "    .dataframe tbody tr th {\n",
       "        vertical-align: top;\n",
       "    }\n",
       "\n",
       "    .dataframe thead th {\n",
       "        text-align: right;\n",
       "    }\n",
       "</style>\n",
       "<table border=\"1\" class=\"dataframe\">\n",
       "  <thead>\n",
       "    <tr style=\"text-align: right;\">\n",
       "      <th></th>\n",
       "      <th>filename</th>\n",
       "      <th>pair_id</th>\n",
       "      <th>img_source</th>\n",
       "    </tr>\n",
       "  </thead>\n",
       "  <tbody>\n",
       "    <tr>\n",
       "      <th>0</th>\n",
       "      <td>000001.json</td>\n",
       "      <td>1</td>\n",
       "      <td>user</td>\n",
       "    </tr>\n",
       "    <tr>\n",
       "      <th>1</th>\n",
       "      <td>000002.json</td>\n",
       "      <td>1</td>\n",
       "      <td>user</td>\n",
       "    </tr>\n",
       "    <tr>\n",
       "      <th>2</th>\n",
       "      <td>000003.json</td>\n",
       "      <td>3</td>\n",
       "      <td>user</td>\n",
       "    </tr>\n",
       "  </tbody>\n",
       "</table>\n",
       "</div>"
      ],
      "text/plain": [
       "      filename  pair_id img_source\n",
       "0  000001.json        1       user\n",
       "1  000002.json        1       user\n",
       "2  000003.json        3       user"
      ]
     },
     "execution_count": 39,
     "metadata": {},
     "output_type": "execute_result"
    }
   ],
   "source": [
    "# load image info: Generated in Notebook `1. model_dataset_exploration`\n",
    "df_image_info = pd.read_csv('../data/validation/file_pair_id.csv')\n",
    "df_image_info.head(3)"
   ]
  },
  {
   "cell_type": "code",
   "execution_count": 40,
   "id": "2b003b82-2ca2-4587-b297-4d6874f827ed",
   "metadata": {},
   "outputs": [
    {
     "data": {
      "text/html": [
       "<div>\n",
       "<style scoped>\n",
       "    .dataframe tbody tr th:only-of-type {\n",
       "        vertical-align: middle;\n",
       "    }\n",
       "\n",
       "    .dataframe tbody tr th {\n",
       "        vertical-align: top;\n",
       "    }\n",
       "\n",
       "    .dataframe thead th {\n",
       "        text-align: right;\n",
       "    }\n",
       "</style>\n",
       "<table border=\"1\" class=\"dataframe\">\n",
       "  <thead>\n",
       "    <tr style=\"text-align: right;\">\n",
       "      <th></th>\n",
       "      <th>filename</th>\n",
       "      <th>pair_id</th>\n",
       "      <th>img_source</th>\n",
       "    </tr>\n",
       "  </thead>\n",
       "  <tbody>\n",
       "    <tr>\n",
       "      <th>10844</th>\n",
       "      <td>010845.json</td>\n",
       "      <td>1</td>\n",
       "      <td>shop</td>\n",
       "    </tr>\n",
       "    <tr>\n",
       "      <th>10845</th>\n",
       "      <td>010846.json</td>\n",
       "      <td>1</td>\n",
       "      <td>shop</td>\n",
       "    </tr>\n",
       "    <tr>\n",
       "      <th>10846</th>\n",
       "      <td>010847.json</td>\n",
       "      <td>1</td>\n",
       "      <td>shop</td>\n",
       "    </tr>\n",
       "  </tbody>\n",
       "</table>\n",
       "</div>"
      ],
      "text/plain": [
       "          filename  pair_id img_source\n",
       "10844  010845.json        1       shop\n",
       "10845  010846.json        1       shop\n",
       "10846  010847.json        1       shop"
      ]
     },
     "execution_count": 40,
     "metadata": {},
     "output_type": "execute_result"
    }
   ],
   "source": [
    "# Select all images from shop\n",
    "img_info_sel = df_image_info[df_image_info['img_source']=='shop']\n",
    "img_info_sel.head(3)"
   ]
  },
  {
   "cell_type": "code",
   "execution_count": 41,
   "id": "de1efc01-5aff-437a-bcd3-27c21886b41f",
   "metadata": {},
   "outputs": [],
   "source": [
    "# Create input to vector db\n",
    "img_dir = '../data/validation/image'\n",
    "metadata_dir = '../data/validation/annos'\n",
    "\n",
    "img_paths = []\n",
    "metadata_paths = []\n",
    "for i, row in img_info_sel.iterrows():\n",
    "    img_id = row['filename'].split('.')[0]\n",
    "    img_paths.append(os.path.join(img_dir, f\"{img_id}.jpg\"))\n",
    "    metadata_paths.append(os.path.join(metadata_dir, f\"{img_id}.json\"))"
   ]
  },
  {
   "cell_type": "code",
   "execution_count": 42,
   "id": "ebd39e48-96ca-4080-967f-54234df00f65",
   "metadata": {
    "collapsed": true,
    "jupyter": {
     "outputs_hidden": true
    }
   },
   "outputs": [
    {
     "name": "stderr",
     "output_type": "stream",
     "text": [
      "INFO:root:Added 512 images to Qdrant collection 'image_db'.\n",
      "INFO:root:Added 512 images to Qdrant collection 'image_db'.\n",
      "INFO:root:Added 512 images to Qdrant collection 'image_db'.\n",
      "INFO:root:Added 512 images to Qdrant collection 'image_db'.\n",
      "INFO:root:Added 512 images to Qdrant collection 'image_db'.\n",
      "INFO:root:Added 512 images to Qdrant collection 'image_db'.\n",
      "INFO:root:Added 512 images to Qdrant collection 'image_db'.\n",
      "INFO:root:Added 512 images to Qdrant collection 'image_db'.\n",
      "INFO:root:Added 512 images to Qdrant collection 'image_db'.\n",
      "INFO:root:Added 512 images to Qdrant collection 'image_db'.\n",
      "INFO:root:Added 512 images to Qdrant collection 'image_db'.\n",
      "INFO:root:Added 512 images to Qdrant collection 'image_db'.\n",
      "INFO:root:Added 512 images to Qdrant collection 'image_db'.\n",
      "INFO:root:Added 512 images to Qdrant collection 'image_db'.\n",
      "INFO:root:Added 512 images to Qdrant collection 'image_db'.\n",
      "INFO:root:Added 512 images to Qdrant collection 'image_db'.\n",
      "INFO:root:Added 512 images to Qdrant collection 'image_db'.\n",
      "INFO:root:Added 512 images to Qdrant collection 'image_db'.\n",
      "INFO:root:Added 512 images to Qdrant collection 'image_db'.\n",
      "INFO:root:Added 512 images to Qdrant collection 'image_db'.\n",
      "INFO:root:Added 512 images to Qdrant collection 'image_db'.\n",
      "INFO:root:Added 512 images to Qdrant collection 'image_db'.\n",
      "INFO:root:Added 512 images to Qdrant collection 'image_db'.\n",
      "INFO:root:Added 512 images to Qdrant collection 'image_db'.\n",
      "INFO:root:Added 512 images to Qdrant collection 'image_db'.\n",
      "INFO:root:Added 512 images to Qdrant collection 'image_db'.\n",
      "INFO:root:Added 512 images to Qdrant collection 'image_db'.\n",
      "INFO:root:Added 512 images to Qdrant collection 'image_db'.\n",
      "INFO:root:Added 512 images to Qdrant collection 'image_db'.\n",
      "INFO:root:Added 512 images to Qdrant collection 'image_db'.\n",
      "INFO:root:Added 512 images to Qdrant collection 'image_db'.\n",
      "INFO:root:Added 512 images to Qdrant collection 'image_db'.\n",
      "INFO:root:Added 512 images to Qdrant collection 'image_db'.\n",
      "INFO:root:Added 512 images to Qdrant collection 'image_db'.\n",
      "INFO:root:Added 512 images to Qdrant collection 'image_db'.\n",
      "INFO:root:Added 512 images to Qdrant collection 'image_db'.\n",
      "INFO:root:Added 512 images to Qdrant collection 'image_db'.\n",
      "INFO:root:Added 512 images to Qdrant collection 'image_db'.\n",
      "INFO:root:Added 512 images to Qdrant collection 'image_db'.\n",
      "/mnt/d/visual-search/experiments/../src/qdrant_vector_db.py:13: UserWarning: Local mode is not recommended for collections with more than 20,000 points. Current collection contains 20480 points. Consider using Qdrant in Docker or Qdrant Cloud for better performance with large datasets.\n",
      "  METADATA_ITEM_KEYS = ['scale', 'viewpoint', 'zoom_in', 'style', 'bounding_box', 'occlusion', 'category_id']\n",
      "INFO:root:Added 512 images to Qdrant collection 'image_db'.\n",
      "INFO:root:Added 512 images to Qdrant collection 'image_db'.\n",
      "INFO:root:Added 317 images to Qdrant collection 'image_db'.\n"
     ]
    }
   ],
   "source": [
    "qdrant_db.add_images_batch(\n",
    "    image_paths=img_paths, \n",
    "    metadata_paths=metadata_paths, \n",
    "    image_encoder=image_encoder, \n",
    "    image_transforms=image_process,\n",
    "    batch_size=512,\n",
    "    parallel=16,\n",
    "    device=device\n",
    ")"
   ]
  },
  {
   "cell_type": "code",
   "execution_count": 43,
   "id": "a35be327-17ee-423b-9e71-581fb91f74cd",
   "metadata": {},
   "outputs": [
    {
     "data": {
      "text/plain": [
       "21309"
      ]
     },
     "execution_count": 43,
     "metadata": {},
     "output_type": "execute_result"
    }
   ],
   "source": [
    "qdrant_db.get_number_of_vectors()"
   ]
  }
 ],
 "metadata": {
  "kernelspec": {
   "display_name": "Python 3 (ipykernel)",
   "language": "python",
   "name": "python3"
  },
  "language_info": {
   "codemirror_mode": {
    "name": "ipython",
    "version": 3
   },
   "file_extension": ".py",
   "mimetype": "text/x-python",
   "name": "python",
   "nbconvert_exporter": "python",
   "pygments_lexer": "ipython3",
   "version": "3.12.7"
  }
 },
 "nbformat": 4,
 "nbformat_minor": 5
}
